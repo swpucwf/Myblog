{
 "cells": [
  {
   "cell_type": "code",
   "execution_count": 5,
   "metadata": {},
   "outputs": [],
   "source": [
    "import tensorflow as tf\n",
    "from tensorflow.keras import layers\n",
    "import matplotlib.pyplot as plt "
   ]
  },
  {
   "cell_type": "code",
   "execution_count": 6,
   "metadata": {},
   "outputs": [],
   "source": [
    "(x_train,y_train),(x_test,y_test) = tf.keras.datasets.mnist.load_data()   #加载MNIST数据集\n",
    "x_train = x_train.reshape(-1,784).astype('float32')/255   #训练集图像打平并归一化 \n",
    "x_test = x_test.reshape(-1,784).astype('float32')/255     "
   ]
  },
  {
   "cell_type": "code",
   "execution_count": 7,
   "metadata": {},
   "outputs": [],
   "source": [
    "class Autoencoder(tf.keras.Model):\n",
    "    def __init__(self):\n",
    "        super(Autoencoder,self).__init__()\n",
    "        self.Encoder = tf.keras.models.Sequential([   #编码器网络\n",
    "            layers.Dense(512, kernel_initializer = 'normal', activation = 'relu'),\n",
    "            layers.Dense(256, kernel_initializer = 'normal', activation = 'relu'),\n",
    "            layers.Dense(60, kernel_initializer = 'normal', activation = 'relu')\n",
    "        ])\n",
    "        self.Decoder = tf.keras.models.Sequential([   #解码器网络\n",
    "            layers.Dense(256, kernel_initializer = 'normal', activation = 'relu'),\n",
    "            layers.Dense(512, kernel_initializer = 'normal', activation = 'relu'),\n",
    "            layers.Dense(784, kernel_initializer = 'normal', activation = 'sigmoid')\n",
    "        ])\n",
    "    def call(self,input_features,training = None):   #前向传播\n",
    "        code = self.Encoder(input_features)   #数据编码\n",
    "        reconstructed = self.Decoder(code)   #数据解码\n",
    "        return reconstructed\n"
   ]
  },
  {
   "cell_type": "code",
   "execution_count": 8,
   "metadata": {},
   "outputs": [],
   "source": [
    "model = Autoencoder()                     #模型创建\n",
    "model.compile(optimizer = 'adam', loss = 'binary_crossentropy')  "
   ]
  },
  {
   "cell_type": "code",
   "execution_count": 9,
   "metadata": {},
   "outputs": [
    {
     "name": "stdout",
     "output_type": "stream",
     "text": [
      "Epoch 1/10\n",
      "235/235 [==============================] - 9s 29ms/step - loss: 0.2981 - val_loss: 0.1372\n",
      "Epoch 2/10\n",
      "235/235 [==============================] - 7s 30ms/step - loss: 0.1275 - val_loss: 0.1094\n",
      "Epoch 3/10\n",
      "235/235 [==============================] - 7s 29ms/step - loss: 0.1053 - val_loss: 0.0978\n",
      "Epoch 4/10\n",
      "235/235 [==============================] - 7s 30ms/step - loss: 0.0962 - val_loss: 0.0920\n",
      "Epoch 5/10\n",
      "235/235 [==============================] - 7s 28ms/step - loss: 0.0914 - val_loss: 0.0892\n",
      "Epoch 6/10\n",
      "235/235 [==============================] - 6s 27ms/step - loss: 0.0882 - val_loss: 0.0866\n",
      "Epoch 7/10\n",
      "235/235 [==============================] - 7s 29ms/step - loss: 0.0858 - val_loss: 0.0847\n",
      "Epoch 8/10\n",
      "235/235 [==============================] - 7s 30ms/step - loss: 0.0839 - val_loss: 0.0833\n",
      "Epoch 9/10\n",
      "235/235 [==============================] - 7s 30ms/step - loss: 0.0823 - val_loss: 0.0814\n",
      "Epoch 10/10\n",
      "235/235 [==============================] - 7s 30ms/step - loss: 0.0811 - val_loss: 0.0806\n"
     ]
    },
    {
     "data": {
      "text/plain": [
       "<tensorflow.python.keras.callbacks.History at 0x1a74382b688>"
      ]
     },
     "execution_count": 9,
     "metadata": {},
     "output_type": "execute_result"
    }
   ],
   "source": [
    "model.fit(x_train,x_train, epochs = 10, batch_size = 256, shuffle = True, validation_data = (x_test[:4000], x_test[:4000]))   "
   ]
  },
  {
   "cell_type": "code",
   "execution_count": 10,
   "metadata": {},
   "outputs": [
    {
     "data": {
      "image/png": "[encoded data removed]",
      "text/plain": [
       "<Figure size 1440x288 with 20 Axes>"
      ]
     },
     "metadata": {
      "needs_background": "light"
     },
     "output_type": "display_data"
    }
   ],
   "source": [
    "decoded_imgs = model.predict(x_test[4000:])\n",
    "#原图片与重构后的图片对比\n",
    "plt.figure(figsize = (20, 4))\n",
    "n = 10\n",
    "for i in range(n):\n",
    "    ax = plt.subplot(2, n, i + 1)\n",
    "    plt.imshow(tf.reshape(x_test[4000+i], [28, 28]))\n",
    "    ax.get_xaxis().set_visible(False)\n",
    "    ax.get_yaxis().set_visible(False)\n",
    "    ax = plt.subplot(2, n, i + 1 + n)\n",
    "    plt.imshow(decoded_imgs[i].reshape(28, 28))\n",
    "    ax.get_xaxis().set_visible(False)\n",
    "    ax.get_yaxis().set_visible(False)\n",
    "plt.show()\n"
   ]
  },
  {
   "cell_type": "code",
   "execution_count": null,
   "metadata": {},
   "outputs": [],
   "source": []
  }
 ],
 "metadata": {
  "kernelspec": {
   "display_name": "Python 3",
   "language": "python",
   "name": "python3"
  },
  "language_info": {
   "codemirror_mode": {
    "name": "ipython",
    "version": 3
   },
   "file_extension": ".py",
   "mimetype": "text/x-python",
   "name": "python",
   "nbconvert_exporter": "python",
   "pygments_lexer": "ipython3",
   "version": "3.7.6"
  }
 },
 "nbformat": 4,
 "nbformat_minor": 4
}
