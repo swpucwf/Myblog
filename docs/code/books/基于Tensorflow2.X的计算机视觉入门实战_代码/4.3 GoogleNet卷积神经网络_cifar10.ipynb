{
 "cells": [
  {
   "cell_type": "code",
   "execution_count": 1,
   "metadata": {},
   "outputs": [],
   "source": [
    "import tensorflow as tf\n",
    "from tensorflow import keras\n",
    "import matplotlib.pyplot as plt"
   ]
  },
  {
   "cell_type": "code",
   "execution_count": 2,
   "metadata": {},
   "outputs": [],
   "source": [
    "(x_train_image,y_train_label),(x_test_image,y_test_label) = tf.keras.datasets.cifar10.load_data()\n",
    "x_train_normalize = x_train_image.astype('float32')/255\n",
    "x_test_normalize = x_test_image.astype('float32')/255\n",
    "y_train_OneHot = tf.keras.utils.to_categorical(y_train_label)\n",
    "y_test_OneHot = tf.keras.utils.to_categorical(y_test_label)"
   ]
  },
  {
   "cell_type": "code",
   "execution_count": 3,
   "metadata": {},
   "outputs": [],
   "source": [
    "def Conv2d_BN(x,filter,kernel_size,strides=(1,1)):\n",
    "    x = keras.layers.Conv2D(filter,kernel_size,padding='same',strides=strides,activation='relu')(x)\n",
    "    x = keras.layers.BatchNormalization(axis=3)(x)\n",
    "    return x"
   ]
  },
  {
   "cell_type": "code",
   "execution_count": 4,
   "metadata": {},
   "outputs": [],
   "source": [
    "def Inception(x,filter):\n",
    "    branch1x1 = Conv2d_BN(x,filter,(1,1),strides=(1,1))\n",
    " \n",
    "    branch1x1 = Conv2d_BN(x,filter,(1,1), strides=(1,1))\n",
    "    branch3x3 = Conv2d_BN(branch1x1,filter,(3,3), strides=(1,1))\n",
    " \n",
    "    branch1x1 = Conv2d_BN(x,filter,(1,1),strides=(1,1))\n",
    "    branch5x5 = Conv2d_BN(branch1x1,filter,(1,1),strides=(1,1))\n",
    " \n",
    "    branch3x3_pooling = keras.layers.MaxPooling2D(pool_size=(3,3),strides=(1,1),padding='same')(x)\n",
    "    branch1x1_pooling = Conv2d_BN(branch3x3_pooling,filter,(1,1),strides=(1,1))\n",
    " \n",
    "    x = keras.layers.concatenate([branch1x1,branch3x3,branch5x5,branch1x1_pooling],axis=3)\n",
    " \n",
    "    return x"
   ]
  },
  {
   "cell_type": "code",
   "execution_count": 5,
   "metadata": {},
   "outputs": [],
   "source": [
    "input = keras.layers.Input(shape=(32,32,3))\n",
    "x = Conv2d_BN(input,64,(7,7),strides=(2,2))\n",
    "x = keras.layers.MaxPooling2D(pool_size=(3,3),strides=(2,2),padding='same')(x)\n",
    "x = Conv2d_BN(x,192,(3,3),strides=(1,1))\n",
    "x = keras.layers.MaxPooling2D(pool_size=(3,3),strides=(2,2),padding='same')(x)\n",
    "x = Inception(x,64)\n",
    "x = Inception(x,120)\n",
    "x = keras.layers.MaxPooling2D(pool_size=(3,3),strides=(2,2),padding='same')(x)\n",
    "x = Inception(x,128)\n",
    "x = Inception(x,128)\n",
    "x = Inception(x,128)\n",
    "x = Inception(x,132)\n",
    "x = Inception(x,208)\n",
    "x = keras.layers.MaxPooling2D(pool_size=(3,3),strides=(2,2),padding='same')(x)\n",
    "x = Inception(x,208)\n",
    "x = Inception(x,256)\n",
    "x = keras.layers.AveragePooling2D(pool_size=(7,7),strides=(1,1),padding='same')(x)\n",
    "x = keras.layers.Dropout(0.4)(x)\n",
    "x = keras.layers.Dense(1000,activation='relu')(x)\n",
    "x = keras.layers.Dense(10,activation='softmax')(x)\n",
    "x = tf.squeeze(x,axis=1)\n",
    "x = tf.squeeze(x,axis=1)"
   ]
  },
  {
   "cell_type": "code",
   "execution_count": 6,
   "metadata": {},
   "outputs": [
    {
     "name": "stdout",
     "output_type": "stream",
     "text": [
      "Epoch 1/10\n",
      "134/134 [==============================] - 10s 75ms/step - loss: 2.1741 - accuracy: 0.2682 - val_loss: 2.8829 - val_accuracy: 0.0965\n",
      "Epoch 2/10\n",
      "134/134 [==============================] - 8s 61ms/step - loss: 1.7068 - accuracy: 0.3910 - val_loss: 2.7857 - val_accuracy: 0.1335\n",
      "Epoch 3/10\n",
      "134/134 [==============================] - 8s 61ms/step - loss: 1.5154 - accuracy: 0.4531 - val_loss: 2.2336 - val_accuracy: 0.3099\n",
      "Epoch 4/10\n",
      "134/134 [==============================] - 8s 61ms/step - loss: 1.4027 - accuracy: 0.4961 - val_loss: 2.0998 - val_accuracy: 0.3356\n",
      "Epoch 5/10\n",
      "134/134 [==============================] - 8s 61ms/step - loss: 1.3103 - accuracy: 0.5345 - val_loss: 2.4367 - val_accuracy: 0.3578\n",
      "Epoch 6/10\n",
      "134/134 [==============================] - 8s 61ms/step - loss: 1.2327 - accuracy: 0.5647 - val_loss: 2.0328 - val_accuracy: 0.3732\n",
      "Epoch 7/10\n",
      "134/134 [==============================] - 8s 61ms/step - loss: 1.1777 - accuracy: 0.5860 - val_loss: 1.6155 - val_accuracy: 0.4394\n",
      "Epoch 8/10\n",
      "134/134 [==============================] - 8s 62ms/step - loss: 1.0442 - accuracy: 0.6281 - val_loss: 1.3726 - val_accuracy: 0.5402\n",
      "Epoch 9/10\n",
      "134/134 [==============================] - 8s 62ms/step - loss: 0.9266 - accuracy: 0.6715 - val_loss: 1.5051 - val_accuracy: 0.5174\n",
      "Epoch 10/10\n",
      "134/134 [==============================] - 8s 61ms/step - loss: 0.8560 - accuracy: 0.6967 - val_loss: 1.4448 - val_accuracy: 0.5254\n"
     ]
    }
   ],
   "source": [
    "model = keras.models.Model(input,x,name='inception')\n",
    "model.compile(loss='categorical_crossentropy',optimizer='adam',metrics=['accuracy'])\n",
    "model_train = model.fit(x=x_train_normalize,y=y_train_OneHot,validation_split=0.2,epochs=10,batch_size=300,verbose=1)"
   ]
  },
  {
   "cell_type": "code",
   "execution_count": null,
   "metadata": {},
   "outputs": [],
   "source": [
    "model = keras.models.Model(input,x,name='inception')\n",
    "model.compile(loss='categorical_crossentropy',optimizer='adam',metrics=['accuracy'])\n",
    "model_train=model.fit(x=x_train_normalize,y=y_train_OneHot,validation_split=0.2,epochs=10,batch_size=300,verbose=1)\n"
   ]
  },
  {
   "cell_type": "code",
   "execution_count": 7,
   "metadata": {},
   "outputs": [],
   "source": [
    "def train_history(model_train,train,val):\n",
    "    plt.plot(model_train.history[train])\n",
    "    plt.plot(model_train.history[val])\n",
    "    plt.title('Train History')\n",
    "    plt.xlabel('epoch')\n",
    "    plt.ylabel(train)\n",
    "    plt.legend(['train','validation'],loc='upper left')"
   ]
  },
  {
   "cell_type": "code",
   "execution_count": 8,
   "metadata": {},
   "outputs": [
    {
     "data": {
      "image/png": "[encoded data removed]",
      "text/plain": [
       "<Figure size 432x288 with 1 Axes>"
      ]
     },
     "metadata": {
      "needs_background": "light"
     },
     "output_type": "display_data"
    }
   ],
   "source": [
    "train_history(model_train,'loss','val_loss')"
   ]
  },
  {
   "cell_type": "code",
   "execution_count": 9,
   "metadata": {},
   "outputs": [
    {
     "name": "stdout",
     "output_type": "stream",
     "text": [
      "313/313 - 2s - loss: 1.4627 - accuracy: 0.5239\n"
     ]
    }
   ],
   "source": [
    "scores = model.evaluate(x_test_normalize,y_test_OneHot,verbose=2)"
   ]
  },
  {
   "cell_type": "code",
   "execution_count": null,
   "metadata": {},
   "outputs": [],
   "source": []
  }
 ],
 "metadata": {
  "kernelspec": {
   "display_name": "Python 3",
   "language": "python",
   "name": "python3"
  },
  "language_info": {
   "codemirror_mode": {
    "name": "ipython",
    "version": 3
   },
   "file_extension": ".py",
   "mimetype": "text/x-python",
   "name": "python",
   "nbconvert_exporter": "python",
   "pygments_lexer": "ipython3",
   "version": "3.7.6"
  }
 },
 "nbformat": 4,
 "nbformat_minor": 4
}
