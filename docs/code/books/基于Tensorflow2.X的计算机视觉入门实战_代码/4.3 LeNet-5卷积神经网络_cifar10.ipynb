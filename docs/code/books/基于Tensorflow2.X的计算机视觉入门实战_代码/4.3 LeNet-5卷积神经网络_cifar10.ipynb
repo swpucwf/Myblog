{
 "cells": [
  {
   "cell_type": "code",
   "execution_count": 1,
   "metadata": {},
   "outputs": [],
   "source": [
    "import tensorflow as tf\n",
    "from tensorflow import keras\n",
    "import matplotlib.pyplot as plt"
   ]
  },
  {
   "cell_type": "code",
   "execution_count": 2,
   "metadata": {},
   "outputs": [],
   "source": [
    "#数据集加载\n",
    "(x_train_image,y_train_label),(x_test_image,y_test_label) = tf.keras.datasets.cifar10.load_data()\n",
    "x_train_normalize = x_train_image.astype('float32')/255   #归一化\n",
    "x_test_normalize = x_test_image.astype('float32')/255\n",
    "y_train_OneHot = tf.keras.utils.to_categorical(y_train_label)   #onehot编码\n",
    "y_test_OneHot = tf.keras.utils.to_categorical(y_test_label)"
   ]
  },
  {
   "cell_type": "code",
   "execution_count": 3,
   "metadata": {},
   "outputs": [],
   "source": [
    "model = tf.keras.models.Sequential()   #模型创建\n",
    "model.add(keras.layers.Conv2D(filters=6,kernel_size=3,strides=1,input_shape=(32,32,3)))\n",
    "model.add(keras.layers.MaxPooling2D(pool_size=2,strides=2))\n",
    "model.add(keras.layers.ReLU())\n",
    "model.add(keras.layers.Conv2D(filters=16,kernel_size=3,strides=1))\n",
    "model.add(keras.layers.MaxPooling2D(pool_size=2,strides=2))\n",
    "model.add(keras.layers.ReLU())\n",
    "model.add(keras.layers.Flatten())\n",
    "model.add(keras.layers.Dense(120,activation='relu'))\n",
    "model.add(keras.layers.Dense(84,activation='relu'))\n",
    "model.add(keras.layers.Dense(10,activation='softmax'))"
   ]
  },
  {
   "cell_type": "code",
   "execution_count": 6,
   "metadata": {},
   "outputs": [
    {
     "name": "stdout",
     "output_type": "stream",
     "text": [
      "Model: \"sequential_1\"\n",
      "_________________________________________________________________\n",
      "Layer (type)                 Output Shape              Param #   \n",
      "=================================================================\n",
      "conv2d (Conv2D)              (None, 30, 30, 6)         168       \n",
      "_________________________________________________________________\n",
      "max_pooling2d (MaxPooling2D) (None, 15, 15, 6)         0         \n",
      "_________________________________________________________________\n",
      "re_lu (ReLU)                 (None, 15, 15, 6)         0         \n",
      "_________________________________________________________________\n",
      "conv2d_1 (Conv2D)            (None, 13, 13, 16)        880       \n",
      "_________________________________________________________________\n",
      "max_pooling2d_1 (MaxPooling2 (None, 6, 6, 16)          0         \n",
      "_________________________________________________________________\n",
      "re_lu_1 (ReLU)               (None, 6, 6, 16)          0         \n",
      "_________________________________________________________________\n",
      "flatten (Flatten)            (None, 576)               0         \n",
      "_________________________________________________________________\n",
      "dense (Dense)                (None, 120)               69240     \n",
      "_________________________________________________________________\n",
      "dense_1 (Dense)              (None, 84)                10164     \n",
      "_________________________________________________________________\n",
      "dense_2 (Dense)              (None, 10)                850       \n",
      "=================================================================\n",
      "Total params: 81,302\n",
      "Trainable params: 81,302\n",
      "Non-trainable params: 0\n",
      "_________________________________________________________________\n"
     ]
    }
   ],
   "source": [
    "model.summary()"
   ]
  },
  {
   "cell_type": "code",
   "execution_count": 4,
   "metadata": {},
   "outputs": [
    {
     "name": "stdout",
     "output_type": "stream",
     "text": [
      "Epoch 1/10\n",
      "134/134 [==============================] - 14s 93ms/step - loss: 2.0875 - accuracy: 0.2315 - val_loss: 1.7061 - val_accuracy: 0.3821\n",
      "Epoch 2/10\n",
      "134/134 [==============================] - 12s 91ms/step - loss: 1.6000 - accuracy: 0.4233 - val_loss: 1.4941 - val_accuracy: 0.4602\n",
      "Epoch 3/10\n",
      "134/134 [==============================] - 12s 92ms/step - loss: 1.4454 - accuracy: 0.4812 - val_loss: 1.4258 - val_accuracy: 0.4961\n",
      "Epoch 4/10\n",
      "134/134 [==============================] - 12s 87ms/step - loss: 1.3762 - accuracy: 0.5071 - val_loss: 1.3759 - val_accuracy: 0.5122\n",
      "Epoch 5/10\n",
      "134/134 [==============================] - 12s 90ms/step - loss: 1.3214 - accuracy: 0.5286 - val_loss: 1.3151 - val_accuracy: 0.5366\n",
      "Epoch 6/10\n",
      "134/134 [==============================] - 13s 98ms/step - loss: 1.2648 - accuracy: 0.5560 - val_loss: 1.2926 - val_accuracy: 0.5422\n",
      "Epoch 7/10\n",
      "134/134 [==============================] - 13s 94ms/step - loss: 1.2408 - accuracy: 0.5617 - val_loss: 1.2748 - val_accuracy: 0.5551\n",
      "Epoch 8/10\n",
      "134/134 [==============================] - 12s 92ms/step - loss: 1.1996 - accuracy: 0.5760 - val_loss: 1.2569 - val_accuracy: 0.5603\n",
      "Epoch 9/10\n",
      "134/134 [==============================] - 12s 87ms/step - loss: 1.1728 - accuracy: 0.5840 - val_loss: 1.2467 - val_accuracy: 0.5644\n",
      "Epoch 10/10\n",
      "134/134 [==============================] - 12s 89ms/step - loss: 1.1550 - accuracy: 0.5926 - val_loss: 1.2133 - val_accuracy: 0.5752\n"
     ]
    }
   ],
   "source": [
    "model.compile(loss='categorical_crossentropy',optimizer='adam',metrics=['accuracy'])\n",
    "model_train = model.fit(x=x_train_normalize,y=y_train_OneHot,validation_split=0.2,epochs=10,batch_size=300,verbose=1)"
   ]
  },
  {
   "cell_type": "code",
   "execution_count": 5,
   "metadata": {},
   "outputs": [
    {
     "data": {
      "image/png": "[encoded data removed]",
      "text/plain": [
       "<Figure size 432x288 with 1 Axes>"
      ]
     },
     "metadata": {
      "needs_background": "light"
     },
     "output_type": "display_data"
    }
   ],
   "source": [
    "def train_history(model_train,train,val):\n",
    "    plt.plot(model_train.history[train])\n",
    "    plt.plot(model_train.history[val])\n",
    "    plt.title('Train History')\n",
    "    plt.xlabel('epoch')\n",
    "    plt.ylabel(train)\n",
    "    plt.legend(['train','validation'],loc='upper left')\n",
    "    \n",
    "train_history(model_train,'loss','val_loss')"
   ]
  },
  {
   "cell_type": "code",
   "execution_count": 6,
   "metadata": {},
   "outputs": [
    {
     "name": "stdout",
     "output_type": "stream",
     "text": [
      "313/313 - 2s - loss: 1.2109 - accuracy: 0.5771\n"
     ]
    }
   ],
   "source": [
    "scores = model.evaluate(x_test_normalize,y_test_OneHot,verbose=2)"
   ]
  },
  {
   "cell_type": "code",
   "execution_count": null,
   "metadata": {},
   "outputs": [],
   "source": []
  }
 ],
 "metadata": {
  "kernelspec": {
   "display_name": "Python 3",
   "language": "python",
   "name": "python3"
  },
  "language_info": {
   "codemirror_mode": {
    "name": "ipython",
    "version": 3
   },
   "file_extension": ".py",
   "mimetype": "text/x-python",
   "name": "python",
   "nbconvert_exporter": "python",
   "pygments_lexer": "ipython3",
   "version": "3.7.6"
  }
 },
 "nbformat": 4,
 "nbformat_minor": 4
}
