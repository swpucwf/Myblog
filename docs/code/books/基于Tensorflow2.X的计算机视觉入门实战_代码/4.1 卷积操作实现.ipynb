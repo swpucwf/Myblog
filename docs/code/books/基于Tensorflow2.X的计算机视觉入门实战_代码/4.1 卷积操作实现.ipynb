{
 "cells": [
  {
   "cell_type": "code",
   "execution_count": 1,
   "metadata": {},
   "outputs": [],
   "source": [
    "import tensorflow as tf"
   ]
  },
  {
   "cell_type": "code",
   "execution_count": 2,
   "metadata": {},
   "outputs": [
    {
     "name": "stdout",
     "output_type": "stream",
     "text": [
      "tf.Tensor(\n",
      "[[[[ 0.75354624  2.9657838   2.4456027 ]\n",
      "   [ 1.4235408  -0.57771707 -0.86387396]\n",
      "   [ 0.12562671 -1.0006247   0.8186578 ]\n",
      "   [ 0.09569051 -1.5308489  -1.1079049 ]]\n",
      "\n",
      "  [[-0.48999617  4.5939465   1.3215225 ]\n",
      "   [ 1.9373882   6.2975674   3.869739  ]\n",
      "   [ 0.2415908   4.433558   -0.26597685]\n",
      "   [ 0.27684122 -2.0135245  -0.22128999]]\n",
      "\n",
      "  [[-1.0539551   0.5599128   1.8140148 ]\n",
      "   [-2.4591622  -6.288887   -2.5512826 ]\n",
      "   [ 0.818917   -0.16794622  0.63845235]\n",
      "   [ 0.92871296  2.5773816   0.8756951 ]]\n",
      "\n",
      "  [[-0.11072803  0.71853524 -0.5985398 ]\n",
      "   [ 1.1795458   2.3308244   1.5516977 ]\n",
      "   [ 0.5331741   3.6385615   0.7910669 ]\n",
      "   [-0.5286833  -2.617179   -1.9543285 ]]]], shape=(1, 4, 4, 3), dtype=float32)\n"
     ]
    }
   ],
   "source": [
    "x = tf.random.normal([1,4,4,1])   #构建批大小、图像尺寸、输入通道数分别为1，4x4和1的图像\n",
    "w = tf.random.normal([4,4,1,3])   #构建卷积核大小、输入及输出通道数分别为4x4、1和3的卷积核\n",
    "out = tf.nn.conv2d(x,w,strides=(1,1,1,1),padding='SAME')   #步长为1，自动进行补0\n",
    "print(out)"
   ]
  },
  {
   "cell_type": "code",
   "execution_count": 3,
   "metadata": {},
   "outputs": [
    {
     "name": "stdout",
     "output_type": "stream",
     "text": [
      "tf.Tensor(\n",
      "[[[[1.3880711 ]\n",
      "   [0.61120605]]\n",
      "\n",
      "  [[1.6649961 ]\n",
      "   [0.41247115]]]], shape=(1, 2, 2, 1), dtype=float32)\n"
     ]
    }
   ],
   "source": [
    "x = tf.random.normal([1,4,4,1])   \n",
    "out = tf.nn.max_pool(x,ksize=[1,2,2,1],strides=2,padding='VALID')   #步长为2，不进行补0\n",
    "print(out)"
   ]
  },
  {
   "cell_type": "code",
   "execution_count": 4,
   "metadata": {},
   "outputs": [
    {
     "name": "stdout",
     "output_type": "stream",
     "text": [
      "(1, 4, 4, 3)\n",
      "(1, 2, 2, 1)\n",
      "(1, 2, 2, 1)\n"
     ]
    }
   ],
   "source": [
    "x = tf.random.normal([1,4,4,1])   #构造图像结构\n",
    "layer = tf.keras.layers.Conv2D(filters=3,kernel_size=4,strides=1,padding='SAME')   #调用卷积层类\n",
    "out = layer(x)\n",
    "print(out.shape)\n",
    "layer = tf.keras.layers.MaxPooling2D(pool_size=2,strides=2,padding='SAME')   #调用最大池化层类\n",
    "out = layer(x)\n",
    "print(out.shape)\n",
    "layer = tf.keras.layers.AveragePooling2D(pool_size=2,strides=2,padding='SAME')   #调用平均池化层类\n",
    "print(out.shape)"
   ]
  },
  {
   "cell_type": "code",
   "execution_count": null,
   "metadata": {},
   "outputs": [],
   "source": []
  }
 ],
 "metadata": {
  "kernelspec": {
   "display_name": "Python 3",
   "language": "python",
   "name": "python3"
  },
  "language_info": {
   "codemirror_mode": {
    "name": "ipython",
    "version": 3
   },
   "file_extension": ".py",
   "mimetype": "text/x-python",
   "name": "python",
   "nbconvert_exporter": "python",
   "pygments_lexer": "ipython3",
   "version": "3.7.6"
  }
 },
 "nbformat": 4,
 "nbformat_minor": 4
}
