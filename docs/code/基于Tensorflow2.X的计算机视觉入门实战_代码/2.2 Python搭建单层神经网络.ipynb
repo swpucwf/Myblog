{
 "cells": [
  {
   "cell_type": "code",
   "execution_count": 1,
   "metadata": {},
   "outputs": [],
   "source": [
    "import numpy as np   #用于矩阵运算 \n",
    "import gzip   #用于解压\n",
    "import matplotlib.pyplot as plt   #用于画图"
   ]
  },
  {
   "cell_type": "code",
   "execution_count": 2,
   "metadata": {},
   "outputs": [],
   "source": [
    "def load_img(file_name):   #数据加载函数\n",
    "    file_path = dataset_dir + \"/\" + file_name   #定义数据集路径\n",
    "    with gzip.open(file_path, 'rb') as f:   #rb代表读取二进制内容\n",
    "            data = np.frombuffer(f.read(), np.uint8, offset=16) \n",
    "    data = data.reshape(-1, 784)   #将28*28的图像尺寸转换成784以便于神经网络输入\n",
    "    return data\n"
   ]
  },
  {
   "cell_type": "code",
   "execution_count": 3,
   "metadata": {},
   "outputs": [],
   "source": [
    "def load_label(file_name):   #标签加载函数\n",
    "    file_path = dataset_dir + \"/\" + file_name\n",
    "    with gzip.open(file_path, 'rb') as f:\n",
    "        labels = np.frombuffer(f.read(), np.uint8, offset=8)\n",
    "    return labels"
   ]
  },
  {
   "cell_type": "code",
   "execution_count": 4,
   "metadata": {},
   "outputs": [],
   "source": [
    "def change_one_hot_label(X):   #标签one-hot编码转换\n",
    "    T = np.zeros((X.size, 10))   #创建数组长度为10的全0标签\n",
    "    for idx, row in enumerate(T): \n",
    "        row[X[idx]] = 1   #one-hot编码创建\n",
    "    return T"
   ]
  },
  {
   "cell_type": "code",
   "execution_count": 5,
   "metadata": {},
   "outputs": [],
   "source": [
    "dataset_dir = \"mnist_dataset\"\n",
    "train_image = \"train-images-idx3-ubyte.gz\"\n",
    "train_label = \"train-labels-idx1-ubyte.gz\"\n",
    "test_image = \"t10k-images-idx3-ubyte.gz\"\n",
    "test_label = \"t10k-labels-idx1-ubyte.gz\"\n",
    "train_image = load_img(train_image)   #读取训练集数据\n",
    "train_label = load_label(train_label)   #读取训练集标签\n",
    "test_image = load_img(test_image)   #读取测试集数据\n",
    "test_label = load_label(test_label)   #读取测试集标签"
   ]
  },
  {
   "cell_type": "code",
   "execution_count": 6,
   "metadata": {},
   "outputs": [],
   "source": [
    "train_image = train_image.astype(np.float32)/255.0   #图像归一化处理\n",
    "test_image = test_image.astype(np.float32)/255.0"
   ]
  },
  {
   "cell_type": "code",
   "execution_count": 7,
   "metadata": {},
   "outputs": [],
   "source": [
    "train_label = change_one_hot_label(train_label)   #标签one-hot编码转换\n",
    "test_label = change_one_hot_label(test_label)"
   ]
  },
  {
   "cell_type": "code",
   "execution_count": 8,
   "metadata": {},
   "outputs": [],
   "source": [
    "def sigmoid(x):   #激活函数\n",
    "    return 1 / (1 + np.exp(-x))\n",
    "\n",
    "def deriv_sigmoid(x):   #激活函数导数，用于在反向传播过程中求偏导\n",
    "    f = sigmoid(x)\n",
    "    return f * (1 - f)"
   ]
  },
  {
   "cell_type": "code",
   "execution_count": 9,
   "metadata": {},
   "outputs": [],
   "source": [
    "w1 = np.random.normal(0.0, pow(784, -0.5), (784, 10))   #输入784，输出10\n",
    "b1 = np.zeros((10,1))+0.0001   #偏置,初始化为0.0001"
   ]
  },
  {
   "cell_type": "code",
   "execution_count": 10,
   "metadata": {},
   "outputs": [],
   "source": [
    "lr = 0.001   #学习率\n",
    "epoch = 100   #训练次数"
   ]
  },
  {
   "cell_type": "code",
   "execution_count": 11,
   "metadata": {},
   "outputs": [],
   "source": [
    "total_loss = []   #存放损失值，便于画图\n",
    "stop_epoch = 0   #记录训练停止时的训练次数"
   ]
  },
  {
   "cell_type": "code",
   "execution_count": 12,
   "metadata": {},
   "outputs": [
    {
     "name": "stdout",
     "output_type": "stream",
     "text": [
      "train accuracy is:0.747750\n",
      "train accuracy is:0.858950\n",
      "train accuracy is:0.872883\n",
      "train accuracy is:0.879650\n",
      "train accuracy is:0.884150\n",
      "train accuracy is:0.886850\n",
      "train accuracy is:0.889333\n",
      "train accuracy is:0.891550\n",
      "train accuracy is:0.893083\n",
      "train accuracy is:0.894633\n",
      "train accuracy is:0.895717\n",
      "train accuracy is:0.896917\n",
      "train accuracy is:0.897917\n",
      "train accuracy is:0.898983\n",
      "train accuracy is:0.899767\n",
      "train accuracy is:0.900550\n"
     ]
    }
   ],
   "source": [
    "for i in range(epoch):   #模型训练\n",
    "    accurate_number = 0   #记录在一次训练里有多少张图片被预测正确\n",
    "    for single_train_image,single_train_label in zip(train_image,train_label):   #读取单张图像数据及其对应的标签\n",
    "        epoch_loss = 0\n",
    "        single_train_image = np.expand_dims(single_train_image, axis=1)   #将(784,)增添维度至(784,1)以满足矩阵运算需求\n",
    "        single_train_label = np.expand_dims(single_train_label, axis=1)\n",
    "        out1 = np.dot(w1.T,single_train_image)+b1   #前向传播 y=wx+b\n",
    "        out1_ = sigmoid(out1)   #激活函数输出 \n",
    "        loss = (single_train_label-out1_)**2   #均方差损失函数\n",
    "        epoch_loss += loss.mean()   #记录loss值\n",
    "        grad_y = single_train_label-out1_   #对应∂y/∂loss项，常数项可被省略\n",
    "        grad_w1 = np.dot(single_train_image,(grad_y*deriv_sigmoid(out1)).T)   #对应∂loss/∂w的计算公式\n",
    "        grad_b1 = (grad_y * deriv_sigmoid(out1))   #对应∂loss/∂b的计算公式\n",
    "        w1 += lr * grad_w1   #w参数更新\n",
    "        b1 += lr * grad_b1   #b参数更新\n",
    "        if np.argmax(out1_) == np.argmax(single_train_label):   #判断预测和标签是否一致\n",
    "            accurate_number+=1\n",
    "    train_accuracy = accurate_number/len(train_image)   #计算训练一次的准确率\n",
    "    print(\"train accuracy is:%f\"%train_accuracy)\n",
    "    total_loss.append(epoch_loss/len(train_image))   #记录每次训练的平均损失率\n",
    "    stop_epoch+=1\n",
    "    if train_accuracy > 0.90:   #当准确率大于0.90时，训练终止\n",
    "        break"
   ]
  },
  {
   "cell_type": "code",
   "execution_count": 13,
   "metadata": {},
   "outputs": [
    {
     "data": {
      "image/png": "[encoded data removed]",
      "text/plain": [
       "<Figure size 432x288 with 1 Axes>"
      ]
     },
     "metadata": {
      "needs_background": "light"
     },
     "output_type": "display_data"
    }
   ],
   "source": [
    "plt.plot([i for i in range(stop_epoch)],total_loss)   #横轴为训练次数，纵轴为损失值\n",
    "plt.show()"
   ]
  },
  {
   "cell_type": "code",
   "execution_count": 14,
   "metadata": {},
   "outputs": [
    {
     "name": "stdout",
     "output_type": "stream",
     "text": [
      "0.894\n"
     ]
    }
   ],
   "source": [
    "#对测试集进行测试\n",
    "out = np.dot(test_image,w1)   #前向传播   \n",
    "out = sigmoid(out)\n",
    "accuracy = 0 \n",
    "for i in range(len(out)):\n",
    "    if np.argmax(out[i]) == np.argmax(test_label[i]):   #判断预测和标签是否一致\n",
    "        accuracy +=1\n",
    "\n",
    "accuracy = accuracy/len(test_label)   #计算准确率\n",
    "print(accuracy)"
   ]
  },
  {
   "cell_type": "code",
   "execution_count": 16,
   "metadata": {},
   "outputs": [
    {
     "data": {
      "image/png": "[encoded data removed]",
      "text/plain": [
       "<Figure size 432x288 with 1 Axes>"
      ]
     },
     "metadata": {
      "needs_background": "light"
     },
     "output_type": "display_data"
    }
   ],
   "source": [
    "plt.title(\"label:%d,predicted:%d\"%(np.argmax(test_label[1]),np.argmax(out[1])))   #显示标签和预测值\n",
    "plt.imshow(test_image[1].reshape(28,28))   #转换成2维，方便图像显示\n",
    "plt.show()"
   ]
  },
  {
   "cell_type": "code",
   "execution_count": null,
   "metadata": {},
   "outputs": [],
   "source": []
  }
 ],
 "metadata": {
  "kernelspec": {
   "display_name": "Python 3",
   "language": "python",
   "name": "python3"
  },
  "language_info": {
   "codemirror_mode": {
    "name": "ipython",
    "version": 3
   },
   "file_extension": ".py",
   "mimetype": "text/x-python",
   "name": "python",
   "nbconvert_exporter": "python",
   "pygments_lexer": "ipython3",
   "version": "3.8.3"
  }
 },
 "nbformat": 4,
 "nbformat_minor": 4
}
