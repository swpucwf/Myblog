{
 "cells": [
  {
   "cell_type": "code",
   "execution_count": 1,
   "metadata": {},
   "outputs": [],
   "source": [
    "import tensorflow as tf\n",
    "from tensorflow import keras\n",
    "import matplotlib.pyplot as plt"
   ]
  },
  {
   "cell_type": "code",
   "execution_count": 2,
   "metadata": {},
   "outputs": [],
   "source": [
    "(x_train_image,y_train_label),(x_test_image,y_test_label) = tf.keras.datasets.cifar10.load_data()\n",
    "x_train_normalize = x_train_image.astype('float32')/255\n",
    "x_test_normalize = x_test_image.astype('float32')/255\n",
    "y_train_OneHot = tf.keras.utils.to_categorical(y_train_label)\n",
    "y_test_OneHot = tf.keras.utils.to_categorical(y_test_label)"
   ]
  },
  {
   "cell_type": "code",
   "execution_count": 3,
   "metadata": {},
   "outputs": [],
   "source": [
    "model = tf.keras.models.Sequential()\n",
    "model.add(keras.layers.Conv2D(filters=96,kernel_size=11,strides=4,input_shape=(32,32,3),padding='same',activation='relu'))\n",
    "model.add(keras.layers.BatchNormalization())\n",
    "model.add(keras.layers.MaxPooling2D(pool_size=3,strides=2,padding='same'))\n",
    "model.add(keras.layers.Conv2D(filters=256,kernel_size=5,strides=1,padding='same',activation='relu'))\n",
    "model.add(keras.layers.BatchNormalization())\n",
    "model.add(keras.layers.MaxPooling2D(pool_size=3,strides=2,padding='same'))\n",
    "model.add(keras.layers.Conv2D(filters=384,kernel_size=3,strides=1,padding='same',activation='relu'))\n",
    "model.add(keras.layers.Conv2D(filters=384,kernel_size=3,strides=1,padding='same',activation='relu'))\n",
    "model.add(keras.layers.Conv2D(filters=256,kernel_size=3,strides=1,padding='same',activation='relu'))\n",
    "model.add(keras.layers.MaxPooling2D(pool_size=3,strides=2,padding='same'))\n",
    "model.add(keras.layers.Flatten())\n",
    "model.add(keras.layers.Dense(4096,activation='relu'))\n",
    "model.add(keras.layers.Dropout(0.5))\n",
    "model.add(keras.layers.Dense(4096,activation='relu'))\n",
    "model.add(keras.layers.Dropout(0.5))\n",
    "model.add(keras.layers.Dense(10,activation='softmax'))   #修正的输出"
   ]
  },
  {
   "cell_type": "code",
   "execution_count": 4,
   "metadata": {},
   "outputs": [
    {
     "name": "stdout",
     "output_type": "stream",
     "text": [
      "Model: \"sequential\"\n",
      "_________________________________________________________________\n",
      "Layer (type)                 Output Shape              Param #   \n",
      "=================================================================\n",
      "conv2d (Conv2D)              (None, 8, 8, 96)          34944     \n",
      "_________________________________________________________________\n",
      "batch_normalization (BatchNo (None, 8, 8, 96)          384       \n",
      "_________________________________________________________________\n",
      "max_pooling2d (MaxPooling2D) (None, 4, 4, 96)          0         \n",
      "_________________________________________________________________\n",
      "conv2d_1 (Conv2D)            (None, 4, 4, 256)         614656    \n",
      "_________________________________________________________________\n",
      "batch_normalization_1 (Batch (None, 4, 4, 256)         1024      \n",
      "_________________________________________________________________\n",
      "max_pooling2d_1 (MaxPooling2 (None, 2, 2, 256)         0         \n",
      "_________________________________________________________________\n",
      "conv2d_2 (Conv2D)            (None, 2, 2, 384)         885120    \n",
      "_________________________________________________________________\n",
      "conv2d_3 (Conv2D)            (None, 2, 2, 384)         1327488   \n",
      "_________________________________________________________________\n",
      "conv2d_4 (Conv2D)            (None, 2, 2, 256)         884992    \n",
      "_________________________________________________________________\n",
      "max_pooling2d_2 (MaxPooling2 (None, 1, 1, 256)         0         \n",
      "_________________________________________________________________\n",
      "flatten (Flatten)            (None, 256)               0         \n",
      "_________________________________________________________________\n",
      "dense (Dense)                (None, 4096)              1052672   \n",
      "_________________________________________________________________\n",
      "dropout (Dropout)            (None, 4096)              0         \n",
      "_________________________________________________________________\n",
      "dense_1 (Dense)              (None, 4096)              16781312  \n",
      "_________________________________________________________________\n",
      "dropout_1 (Dropout)          (None, 4096)              0         \n",
      "_________________________________________________________________\n",
      "dense_2 (Dense)              (None, 10)                40970     \n",
      "=================================================================\n",
      "Total params: 21,623,562\n",
      "Trainable params: 21,622,858\n",
      "Non-trainable params: 704\n",
      "_________________________________________________________________\n"
     ]
    }
   ],
   "source": [
    "model.summary()"
   ]
  },
  {
   "cell_type": "code",
   "execution_count": 5,
   "metadata": {},
   "outputs": [
    {
     "name": "stdout",
     "output_type": "stream",
     "text": [
      "Epoch 1/10\n",
      "134/134 [==============================] - 5s 40ms/step - loss: 1.8293 - accuracy: 0.3065 - val_loss: 2.6705 - val_accuracy: 0.1313\n",
      "Epoch 2/10\n",
      "134/134 [==============================] - 5s 36ms/step - loss: 1.4726 - accuracy: 0.4565 - val_loss: 2.7347 - val_accuracy: 0.2082\n",
      "Epoch 3/10\n",
      "134/134 [==============================] - 5s 36ms/step - loss: 1.3302 - accuracy: 0.5158 - val_loss: 1.9542 - val_accuracy: 0.3192\n",
      "Epoch 4/10\n",
      "134/134 [==============================] - 5s 36ms/step - loss: 1.2124 - accuracy: 0.5673 - val_loss: 1.3723 - val_accuracy: 0.5050\n",
      "Epoch 5/10\n",
      "134/134 [==============================] - 5s 36ms/step - loss: 1.1139 - accuracy: 0.6062 - val_loss: 1.5576 - val_accuracy: 0.4730\n",
      "Epoch 6/10\n",
      "134/134 [==============================] - 5s 36ms/step - loss: 1.0238 - accuracy: 0.6384 - val_loss: 1.2660 - val_accuracy: 0.5648\n",
      "Epoch 7/10\n",
      "134/134 [==============================] - 5s 36ms/step - loss: 0.9394 - accuracy: 0.6724 - val_loss: 1.3304 - val_accuracy: 0.5707\n",
      "Epoch 8/10\n",
      "134/134 [==============================] - 5s 36ms/step - loss: 0.8674 - accuracy: 0.6987 - val_loss: 1.1827 - val_accuracy: 0.6003\n",
      "Epoch 9/10\n",
      "134/134 [==============================] - 5s 36ms/step - loss: 0.7952 - accuracy: 0.7245 - val_loss: 1.2878 - val_accuracy: 0.5891\n",
      "Epoch 10/10\n",
      "134/134 [==============================] - 5s 36ms/step - loss: 0.7076 - accuracy: 0.7547 - val_loss: 1.4664 - val_accuracy: 0.5657\n"
     ]
    }
   ],
   "source": [
    "model.compile(loss='categorical_crossentropy',optimizer='adam',metrics=['accuracy'])\n",
    "model_train = model.fit(x=x_train_normalize,y=y_train_OneHot,validation_split=0.2,epochs=10,batch_size=300,verbose=1)"
   ]
  },
  {
   "cell_type": "code",
   "execution_count": 6,
   "metadata": {},
   "outputs": [],
   "source": [
    "def train_history(model_train,train,val):\n",
    "    plt.plot(model_train.history[train])\n",
    "    plt.plot(model_train.history[val])\n",
    "    plt.title('Train History')\n",
    "    plt.xlabel('epoch')\n",
    "    plt.ylabel(train)\n",
    "    plt.legend(['train','validation'],loc='upper left')"
   ]
  },
  {
   "cell_type": "code",
   "execution_count": 7,
   "metadata": {},
   "outputs": [
    {
     "data": {
      "image/png": "[encoded data removed]",
      "text/plain": [
       "<Figure size 432x288 with 1 Axes>"
      ]
     },
     "metadata": {
      "needs_background": "light"
     },
     "output_type": "display_data"
    }
   ],
   "source": [
    "train_history(model_train,'loss','val_loss')"
   ]
  },
  {
   "cell_type": "code",
   "execution_count": 8,
   "metadata": {},
   "outputs": [
    {
     "name": "stdout",
     "output_type": "stream",
     "text": [
      "313/313 - 1s - loss: 1.4989 - accuracy: 0.5621\n"
     ]
    }
   ],
   "source": [
    "scores = model.evaluate(x_test_normalize,y_test_OneHot,verbose=2)"
   ]
  },
  {
   "cell_type": "code",
   "execution_count": null,
   "metadata": {},
   "outputs": [],
   "source": []
  }
 ],
 "metadata": {
  "kernelspec": {
   "display_name": "Python 3",
   "language": "python",
   "name": "python3"
  },
  "language_info": {
   "codemirror_mode": {
    "name": "ipython",
    "version": 3
   },
   "file_extension": ".py",
   "mimetype": "text/x-python",
   "name": "python",
   "nbconvert_exporter": "python",
   "pygments_lexer": "ipython3",
   "version": "3.7.6"
  }
 },
 "nbformat": 4,
 "nbformat_minor": 4
}
