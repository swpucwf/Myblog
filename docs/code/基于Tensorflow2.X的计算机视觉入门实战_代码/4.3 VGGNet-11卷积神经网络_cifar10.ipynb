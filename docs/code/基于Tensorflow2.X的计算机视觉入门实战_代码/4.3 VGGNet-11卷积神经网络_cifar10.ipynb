{
 "cells": [
  {
   "cell_type": "code",
   "execution_count": 1,
   "metadata": {},
   "outputs": [],
   "source": [
    "import tensorflow as tf\n",
    "from tensorflow import keras\n",
    "import matplotlib.pyplot as plt"
   ]
  },
  {
   "cell_type": "code",
   "execution_count": 5,
   "metadata": {},
   "outputs": [
    {
     "name": "stdout",
     "output_type": "stream",
     "text": [
      "Downloading data from https://www.cs.toronto.edu/~kriz/cifar-10-python.tar.gz\n",
      "170500096/170498071 [==============================] - 23s 0us/step\n"
     ]
    }
   ],
   "source": [
    "(x_train_image,y_train_label),(x_test_image,y_test_label) = tf.keras.datasets.cifar10.load_data()\n",
    "x_train_normalize = x_train_image.astype('float32')/255\n",
    "x_test_normalize = x_test_image.astype('float32')/255\n",
    "y_train_OneHot = tf.keras.utils.to_categorical(y_train_label)\n",
    "y_test_OneHot = tf.keras.utils.to_categorical(y_test_label)"
   ]
  },
  {
   "cell_type": "code",
   "execution_count": 6,
   "metadata": {},
   "outputs": [],
   "source": [
    "model = tf.keras.models.Sequential()\n",
    "model.add(keras.layers.Conv2D(filters=64,kernel_size=3,strides=1,input_shape=(32,32,3),padding='same',activation='relu'))\n",
    "model.add(keras.layers.MaxPooling2D(pool_size=2,strides=2,padding='same'))\n",
    "model.add(keras.layers.Conv2D(filters=128,kernel_size=3,strides=1,padding='same',activation='relu'))\n",
    "model.add(keras.layers.MaxPooling2D(pool_size=2,strides=2,padding='same'))\n",
    "model.add(keras.layers.Conv2D(filters=256,kernel_size=3,strides=1,padding='same',activation='relu'))\n",
    "model.add(keras.layers.Conv2D(filters=256,kernel_size=3,strides=1,padding='same',activation='relu'))\n",
    "model.add(keras.layers.MaxPooling2D(pool_size=2,strides=2,padding='same'))\n",
    "model.add(keras.layers.Conv2D(filters=512,kernel_size=3,strides=1,padding='same',activation='relu'))\n",
    "model.add(keras.layers.Conv2D(filters=512,kernel_size=3,strides=1,padding='same',activation='relu'))\n",
    "model.add(keras.layers.MaxPooling2D(pool_size=2,strides=2,padding='same'))\n",
    "model.add(keras.layers.Conv2D(filters=512,kernel_size=3,strides=1,padding='same',activation='relu'))\n",
    "model.add(keras.layers.Conv2D(filters=512,kernel_size=3,strides=1,padding='same',activation='relu'))\n",
    "model.add(keras.layers.MaxPooling2D(pool_size=2,strides=2,padding='same'))\n",
    "model.add(keras.layers.Flatten())\n",
    "model.add(keras.layers.Dense(4096,activation='relu'))\n",
    "model.add(keras.layers.Dropout(0.5))\n",
    "model.add(keras.layers.Dense(4096,activation='relu'))\n",
    "model.add(keras.layers.Dropout(0.5))\n",
    "model.add(keras.layers.Dense(10,activation='softmax'))"
   ]
  },
  {
   "cell_type": "code",
   "execution_count": 7,
   "metadata": {},
   "outputs": [
    {
     "name": "stdout",
     "output_type": "stream",
     "text": [
      "Epoch 1/10\n",
      "134/134 [==============================] - 11s 81ms/step - loss: 2.0298 - accuracy: 0.2000 - val_loss: 1.8637 - val_accuracy: 0.2799\n",
      "Epoch 2/10\n",
      "134/134 [==============================] - 10s 74ms/step - loss: 1.6340 - accuracy: 0.3593 - val_loss: 1.5154 - val_accuracy: 0.4288\n",
      "Epoch 3/10\n",
      "134/134 [==============================] - 10s 75ms/step - loss: 1.3514 - accuracy: 0.4967 - val_loss: 1.3563 - val_accuracy: 0.5035\n",
      "Epoch 4/10\n",
      "134/134 [==============================] - 10s 75ms/step - loss: 1.1472 - accuracy: 0.5873 - val_loss: 1.0862 - val_accuracy: 0.6142\n",
      "Epoch 5/10\n",
      "134/134 [==============================] - 10s 75ms/step - loss: 0.9827 - accuracy: 0.6475 - val_loss: 1.0872 - val_accuracy: 0.6198\n",
      "Epoch 6/10\n",
      "134/134 [==============================] - 10s 75ms/step - loss: 0.8524 - accuracy: 0.6994 - val_loss: 0.9315 - val_accuracy: 0.6834\n",
      "Epoch 7/10\n",
      "134/134 [==============================] - 10s 75ms/step - loss: 0.7360 - accuracy: 0.7412 - val_loss: 0.8834 - val_accuracy: 0.6924\n",
      "Epoch 8/10\n",
      "134/134 [==============================] - 10s 75ms/step - loss: 0.6329 - accuracy: 0.7793 - val_loss: 0.9029 - val_accuracy: 0.7103\n",
      "Epoch 9/10\n",
      "134/134 [==============================] - 10s 75ms/step - loss: 0.5692 - accuracy: 0.8029 - val_loss: 0.9221 - val_accuracy: 0.7033\n",
      "Epoch 10/10\n",
      "134/134 [==============================] - 10s 75ms/step - loss: 0.4908 - accuracy: 0.8320 - val_loss: 0.8516 - val_accuracy: 0.7289\n"
     ]
    }
   ],
   "source": [
    "model.compile(loss='categorical_crossentropy',optimizer='adam',metrics=['accuracy'])\n",
    "model_train = model.fit(x=x_train_normalize,y=y_train_OneHot,validation_split=0.2,epochs=10,batch_size=300,verbose=1)"
   ]
  },
  {
   "cell_type": "code",
   "execution_count": 8,
   "metadata": {},
   "outputs": [],
   "source": [
    "def train_history(model_train,train,val):\n",
    "    plt.plot(model_train.history[train])\n",
    "    plt.plot(model_train.history[val])\n",
    "    plt.title('Train History')\n",
    "    plt.xlabel('epoch')\n",
    "    plt.ylabel(train)\n",
    "    plt.legend(['train','validation'],loc='upper left')"
   ]
  },
  {
   "cell_type": "code",
   "execution_count": 9,
   "metadata": {},
   "outputs": [
    {
     "data": {
      "image/png": "[encoded data removed]",
      "text/plain": [
       "<Figure size 432x288 with 1 Axes>"
      ]
     },
     "metadata": {
      "needs_background": "light"
     },
     "output_type": "display_data"
    }
   ],
   "source": [
    "train_history(model_train,'loss','val_loss')"
   ]
  },
  {
   "cell_type": "code",
   "execution_count": 10,
   "metadata": {},
   "outputs": [
    {
     "name": "stdout",
     "output_type": "stream",
     "text": [
      "313/313 - 2s - loss: 0.8709 - accuracy: 0.7192\n"
     ]
    }
   ],
   "source": [
    "scores = model.evaluate(x_test_normalize,y_test_OneHot,verbose=2)"
   ]
  },
  {
   "cell_type": "code",
   "execution_count": null,
   "metadata": {},
   "outputs": [],
   "source": []
  }
 ],
 "metadata": {
  "kernelspec": {
   "display_name": "Python 3",
   "language": "python",
   "name": "python3"
  },
  "language_info": {
   "codemirror_mode": {
    "name": "ipython",
    "version": 3
   },
   "file_extension": ".py",
   "mimetype": "text/x-python",
   "name": "python",
   "nbconvert_exporter": "python",
   "pygments_lexer": "ipython3",
   "version": "3.7.6"
  }
 },
 "nbformat": 4,
 "nbformat_minor": 4
}
