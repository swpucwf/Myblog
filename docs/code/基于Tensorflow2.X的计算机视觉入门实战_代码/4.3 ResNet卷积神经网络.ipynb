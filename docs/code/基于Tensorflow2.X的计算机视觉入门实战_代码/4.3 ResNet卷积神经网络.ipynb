{
 "cells": [
  {
   "cell_type": "code",
   "execution_count": 1,
   "metadata": {},
   "outputs": [],
   "source": [
    "import tensorflow as tf\n",
    "from tensorflow import keras\n",
    "import matplotlib.pyplot as plt"
   ]
  },
  {
   "cell_type": "code",
   "execution_count": 2,
   "metadata": {},
   "outputs": [],
   "source": [
    "(x_train_image,y_train_label),(x_test_image,y_test_label) = tf.keras.datasets.cifar10.load_data()\n",
    "x_train_normalize = x_train_image.astype('float32')/255\n",
    "x_test_normalize = x_test_image.astype('float32')/255\n",
    "y_train_OneHot = tf.keras.utils.to_categorical(y_train_label)\n",
    "y_test_OneHot = tf.keras.utils.to_categorical(y_test_label)"
   ]
  },
  {
   "cell_type": "code",
   "execution_count": 3,
   "metadata": {},
   "outputs": [],
   "source": [
    "def identity_block(x,filters):\n",
    "    x_input = x\n",
    "    x = keras.layers.Conv2D(filters = filters, kernel_size = (3,3), strides = (1,1), padding = 'same')(x)\n",
    "    x = keras.layers.BatchNormalization(axis = 3)(x)\n",
    "    x = keras.layers.ReLU()(x)\n",
    "    x = keras.layers.Conv2D(filters = filters, kernel_size = (3,3), strides = (1,1), padding = 'same')(x)\n",
    "    x = keras.layers.BatchNormalization(axis = 3)(x)\n",
    "    x = keras.layers.Add()([x, x_input])   #与输入进行连接\n",
    "    x = keras.layers.ReLU()(x)\n",
    "    return x"
   ]
  },
  {
   "cell_type": "code",
   "execution_count": 4,
   "metadata": {},
   "outputs": [],
   "source": [
    "def convolutional_block(x,filters):\n",
    "    x_input = x\n",
    "    x = keras.layers.Conv2D(filters = filters, kernel_size = (3,3), strides = (1,1), padding = 'same')(x)\n",
    "    x = keras.layers.BatchNormalization(axis = 3)(x)\n",
    "    x = keras.layers.ReLU()(x)\n",
    "    x = keras.layers.Conv2D(filters = filters, kernel_size = (3,3), strides = (1,1), padding = 'same')(x)\n",
    "    x = keras.layers.BatchNormalization(axis = 3)(x)\n",
    "    x_input = keras.layers.Conv2D(filters, kernel_size=(1,1), strides = (1,1))(x_input)\n",
    "    x_input = keras.layers.BatchNormalization(axis = 3)(x_input)\n",
    "    x = keras.layers.Add()([x, x_input])\n",
    "    x = keras.layers.ReLU()(x)\n",
    "    return x"
   ]
  },
  {
   "cell_type": "code",
   "execution_count": 5,
   "metadata": {},
   "outputs": [],
   "source": [
    "input = keras.layers.Input(shape=(32,32,3))\n",
    "x = keras.layers.Conv2D(64, (7, 7), strides = (2,2),padding='same')(input)\n",
    "x = keras.layers.BatchNormalization(axis = 3)(x)\n",
    "x = keras.layers.ReLU()(x)\n",
    "x = keras.layers.MaxPooling2D((3, 3), strides = (2,2))(x)\n",
    "x = convolutional_block(x,64)\n",
    "x = identity_block(x,64)\n",
    "x = identity_block(x,64)\n",
    "x = convolutional_block(x,128)\n",
    "x = identity_block(x,128)\n",
    "x = identity_block(x,128)\n",
    "x = identity_block(x,128)\n",
    "x = convolutional_block(x,256)\n",
    "x = identity_block(x,256)\n",
    "x = identity_block(x,256)\n",
    "x = identity_block(x,256)\n",
    "x = identity_block(x,256)\n",
    "x = identity_block(x,256)\n",
    "x = convolutional_block(x,512)\n",
    "x = identity_block(x,512)\n",
    "x = identity_block(x,512)\n",
    "x = keras.layers.MaxPooling2D(pool_size=(2,2),strides=(2,2),padding='same')(x)\n",
    "x = keras.layers.Flatten()(x)\n",
    "x = keras.layers.Dense(10,activation='softmax')(x)"
   ]
  },
  {
   "cell_type": "code",
   "execution_count": 6,
   "metadata": {},
   "outputs": [
    {
     "name": "stdout",
     "output_type": "stream",
     "text": [
      "Epoch 1/10\n",
      "134/134 [==============================] - 37s 277ms/step - loss: 2.9017 - accuracy: 0.2254 - val_loss: 373.4216 - val_accuracy: 0.1018\n",
      "Epoch 2/10\n",
      "134/134 [==============================] - 36s 266ms/step - loss: 1.8378 - accuracy: 0.3954 - val_loss: 4.8793 - val_accuracy: 0.0961\n",
      "Epoch 3/10\n",
      "134/134 [==============================] - 36s 267ms/step - loss: 1.8784 - accuracy: 0.4231 - val_loss: 2.0992 - val_accuracy: 0.2952\n",
      "Epoch 4/10\n",
      "134/134 [==============================] - 36s 266ms/step - loss: 1.6035 - accuracy: 0.4750 - val_loss: 2.2623 - val_accuracy: 0.4295\n",
      "Epoch 5/10\n",
      "134/134 [==============================] - 36s 267ms/step - loss: 1.3760 - accuracy: 0.5360 - val_loss: 4.4106 - val_accuracy: 0.4955\n",
      "Epoch 6/10\n",
      "134/134 [==============================] - 36s 267ms/step - loss: 1.2871 - accuracy: 0.5738 - val_loss: 9.2787 - val_accuracy: 0.4207\n",
      "Epoch 7/10\n",
      "134/134 [==============================] - 36s 267ms/step - loss: 1.1836 - accuracy: 0.6119 - val_loss: 8.6415 - val_accuracy: 0.2051\n",
      "Epoch 8/10\n",
      "134/134 [==============================] - 36s 267ms/step - loss: 1.0600 - accuracy: 0.6471 - val_loss: 2.3188 - val_accuracy: 0.3150\n",
      "Epoch 9/10\n",
      "134/134 [==============================] - 36s 268ms/step - loss: 1.0664 - accuracy: 0.6502 - val_loss: 961.3069 - val_accuracy: 0.1078\n",
      "Epoch 10/10\n",
      "134/134 [==============================] - 36s 267ms/step - loss: 1.1322 - accuracy: 0.6237 - val_loss: 1.4973 - val_accuracy: 0.5179\n"
     ]
    }
   ],
   "source": [
    "model = keras.models.Model(input,x)\n",
    "model.compile(loss='categorical_crossentropy',optimizer='adam',metrics=['accuracy'])\n",
    "model_train = model.fit(x=x_train_normalize,y=y_train_OneHot,validation_split=0.2,epochs=10,batch_size=300,verbose=1)"
   ]
  },
  {
   "cell_type": "code",
   "execution_count": 7,
   "metadata": {},
   "outputs": [],
   "source": [
    "def train_history(model_train,train,val):\n",
    "    plt.plot(model_train.history[train])\n",
    "    plt.plot(model_train.history[val])\n",
    "    plt.title('Train History')\n",
    "    plt.xlabel('epoch')\n",
    "    plt.ylabel(train)\n",
    "    plt.legend(['train','validation'],loc='upper left')"
   ]
  },
  {
   "cell_type": "code",
   "execution_count": 8,
   "metadata": {},
   "outputs": [
    {
     "data": {
      "image/png": "[encoded data removed]",
      "text/plain": [
       "<Figure size 432x288 with 1 Axes>"
      ]
     },
     "metadata": {
      "needs_background": "light"
     },
     "output_type": "display_data"
    }
   ],
   "source": [
    "train_history(model_train,'loss','val_loss')"
   ]
  },
  {
   "cell_type": "code",
   "execution_count": 9,
   "metadata": {},
   "outputs": [
    {
     "name": "stdout",
     "output_type": "stream",
     "text": [
      "313/313 - 5s - loss: 1.4745 - accuracy: 0.5184\n"
     ]
    }
   ],
   "source": [
    "scores = model.evaluate(x_test_normalize,y_test_OneHot,verbose=2)"
   ]
  },
  {
   "cell_type": "code",
   "execution_count": null,
   "metadata": {},
   "outputs": [],
   "source": []
  }
 ],
 "metadata": {
  "kernelspec": {
   "display_name": "Python 3",
   "language": "python",
   "name": "python3"
  },
  "language_info": {
   "codemirror_mode": {
    "name": "ipython",
    "version": 3
   },
   "file_extension": ".py",
   "mimetype": "text/x-python",
   "name": "python",
   "nbconvert_exporter": "python",
   "pygments_lexer": "ipython3",
   "version": "3.7.6"
  }
 },
 "nbformat": 4,
 "nbformat_minor": 4
}
